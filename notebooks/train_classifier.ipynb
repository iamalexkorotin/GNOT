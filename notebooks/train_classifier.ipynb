{
 "cells": [
  {
   "cell_type": "code",
   "execution_count": 1,
   "metadata": {},
   "outputs": [],
   "source": [
    "import os, sys \n",
    "sys.path.append(\"..\")\n",
    "\n",
    "import matplotlib.pyplot as plt\n",
    "import numpy as np\n",
    "import torch\n",
    "import torchvision\n",
    "import torchvision.datasets as datasets\n",
    "import torchvision.models as models\n",
    "import torchvision.transforms as transforms\n",
    "\n",
    "from PIL import Image\n",
    "from torch import nn\n",
    "from torchvision.transforms import Compose, Resize, Normalize, ToTensor\n",
    "from src import distributions\n",
    "from src.tools import test_accuracy\n",
    "from src.mnistm_utils import MNISTM"
   ]
  },
  {
   "cell_type": "markdown",
   "metadata": {},
   "source": [
    "## Load Data"
   ]
  },
  {
   "cell_type": "code",
   "execution_count": 2,
   "metadata": {
    "tags": []
   },
   "outputs": [],
   "source": [
    "IMG_SIZE = 32\n",
    "transform = Compose([\n",
    "    Resize((IMG_SIZE, IMG_SIZE)), \n",
    "    ToTensor(),\n",
    "    Normalize((0.5), (0.5)),\n",
    "])\n",
    "DATASET_PATH = '../datasets/'\n",
    "DATASET = 'mnist'\n",
    "\n",
    "model = models.resnet18()\n",
    "if DATASET == 'kmnist':\n",
    "    dataset = datasets.KMNIST(DATASET_PATH, train=True, download=True, transform=transform)\n",
    "    testset = datasets.KMNIST(DATASET_PATH, train=True, download=True, transform=transform)\n",
    "    model.conv1 = nn.Conv2d(1, 64, kernel_size=(7, 7), stride=(2, 2), padding=(3, 3), bias=False)\n",
    "    model.fc =  nn.Linear(in_features=512, out_features=10, bias=True)\n",
    "    NC = 1\n",
    "\n",
    "elif DATASET == 'mnist':\n",
    "    dataset = datasets.MNIST(DATASET_PATH,  train=True, download=True, transform=transform)\n",
    "    testset = datasets.MNIST(DATASET_PATH, train=False, download=True, transform=transform)\n",
    "    model.conv1 = nn.Conv2d(1, 64, kernel_size=(7, 7), stride=(2, 2), padding=(3, 3), bias=False)\n",
    "    model.fc =  nn.Linear(in_features=512, out_features=10, bias=True)\n",
    "    NC = 1\n",
    "    \n",
    "elif DATASET == 'usps':\n",
    "    dataset = datasets.USPS(DATASET_PATH,  train=True, download=True, transform=transform)\n",
    "    testset = datasets.USPS(DATASET_PATH, train=False, download=True, transform=transform)\n",
    "    model.conv1 = nn.Conv2d(1, 64, kernel_size=(7, 7), stride=(2, 2), padding=(3, 3), bias=False)\n",
    "    model.fc =  nn.Linear(in_features=512, out_features=10, bias=True)\n",
    "    NC = 1\n",
    "\n",
    "elif DATASET == 'mnistm':\n",
    "    dataset = MNISTM(DATASET_PATH,  train=True, download=True, transform=transform)\n",
    "    testset = MNISTM(DATASET_PATH, train=False, download=True, transform=transform)\n",
    "    model.fc =  nn.Linear(in_features=512, out_features=10, bias=True)\n",
    "    NC = 3\n",
    "    \n",
    "trainloader = torch.utils.data.DataLoader(dataset, batch_size=64, shuffle=True)\n",
    "testloader = torch.utils.data.DataLoader(testset, batch_size=64, shuffle=True)"
   ]
  },
  {
   "cell_type": "code",
   "execution_count": 3,
   "metadata": {},
   "outputs": [
    {
     "data": {
      "image/png": "[encoded data removed]",
      "text/plain": [
       "<Figure size 432x288 with 1 Axes>"
      ]
     },
     "metadata": {
      "needs_background": "light"
     },
     "output_type": "display_data"
    }
   ],
   "source": [
    "def imshow(img):\n",
    "    img = img / 2 + 0.5\n",
    "    npimg = img.numpy()\n",
    "    plt.imshow(np.transpose(npimg, (1, 2, 0)))\n",
    "    plt.show()\n",
    "\n",
    "dataiter = iter(trainloader)\n",
    "images, labels = dataiter.next()\n",
    "classes = list(range(10))\n",
    "\n",
    "imshow(torchvision.utils.make_grid(images[:16]))"
   ]
  },
  {
   "cell_type": "markdown",
   "metadata": {},
   "source": [
    "## Define Classifier"
   ]
  },
  {
   "cell_type": "code",
   "execution_count": 4,
   "metadata": {},
   "outputs": [],
   "source": [
    "model.cuda()\n",
    "optimizer = torch.optim.Adam(model.parameters(), lr=0.001)\n",
    "loss_fn = nn.CrossEntropyLoss()"
   ]
  },
  {
   "cell_type": "markdown",
   "metadata": {},
   "source": [
    "## Train"
   ]
  },
  {
   "cell_type": "code",
   "execution_count": 5,
   "metadata": {},
   "outputs": [],
   "source": [
    "def fit(model, trainloader, testloader, optimizer, loss_fn, epochs=30):\n",
    "    model.train()\n",
    "    for epoch in range(epochs):\n",
    "        correct = 0\n",
    "        for batch_idx, (X_batch, y_batch) in enumerate(trainloader):            \n",
    "            X_batch, Y_batch = X_batch.cuda(), y_batch.cuda()\n",
    "            optimizer.zero_grad()\n",
    "            output = model.forward(X_batch)\n",
    "            loss = loss_fn(output, Y_batch)\n",
    "            loss.backward()\n",
    "            optimizer.step()\n",
    "            predicted = torch.max(output.data, 1)[1] \n",
    "            correct += (predicted == Y_batch).sum()\n",
    "        test_accuracy(model, testloader)\n",
    "    return model"
   ]
  },
  {
   "cell_type": "code",
   "execution_count": 6,
   "metadata": {},
   "outputs": [
    {
     "name": "stdout",
     "output_type": "stream",
     "text": [
      "Accuracy of the network: 97.71\n",
      "Accuracy of the network: 98.07\n",
      "Accuracy of the network: 98.78\n",
      "Accuracy of the network: 98.93\n",
      "Accuracy of the network: 98.51\n",
      "Accuracy of the network: 99.26\n",
      "Accuracy of the network: 98.97\n",
      "Accuracy of the network: 98.84\n",
      "Accuracy of the network: 99.18\n",
      "Accuracy of the network: 99.21\n"
     ]
    }
   ],
   "source": [
    "model = fit(model, trainloader, testloader, optimizer, loss_fn, 10)"
   ]
  },
  {
   "cell_type": "code",
   "execution_count": 9,
   "metadata": {},
   "outputs": [],
   "source": [
    "model.eval()\n",
    "torch.save(model.cpu().state_dict(), '../saved_models/classifiers/{}.pt'.format(DATASET))"
   ]
  }
 ],
 "metadata": {
  "kernelspec": {
   "display_name": "Python 3 (ipykernel)",
   "language": "python",
   "name": "python3"
  },
  "language_info": {
   "codemirror_mode": {
    "name": "ipython",
    "version": 3
   },
   "file_extension": ".py",
   "mimetype": "text/x-python",
   "name": "python",
   "nbconvert_exporter": "python",
   "pygments_lexer": "ipython3",
   "version": "3.7.12"
  }
 },
 "nbformat": 4,
 "nbformat_minor": 4
}
